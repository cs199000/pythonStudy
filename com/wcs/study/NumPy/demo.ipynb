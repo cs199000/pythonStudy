{
 "cells": [
  {
   "cell_type": "markdown",
   "metadata": {
    "collapsed": true
   },
   "source": [
    "#NumPy学习笔记"
   ]
  },
  {
   "cell_type": "code",
   "execution_count": 1,
   "metadata": {
    "collapsed": false,
    "scrolled": true
   },
   "outputs": [
    {
     "name": "stdout",
     "output_type": "stream",
     "text": [
      "<type 'numpy.ndarray'>\n"
     ]
    },
    {
     "data": {
      "text/plain": [
       "array([[ 0,  1,  2,  3,  4],\n",
       "       [ 5,  6,  7,  8,  9],\n",
       "       [10, 11, 12, 13, 14]])"
      ]
     },
     "execution_count": 1,
     "metadata": {},
     "output_type": "execute_result"
    }
   ],
   "source": [
    "# 导入NumPy\n",
    "import numpy as np\n",
    "\n",
    "# 创建二维数组\n",
    "a = np.arange(15).reshape(3, 5)\n",
    "print type(a)\n",
    "a"
   ]
  },
  {
   "cell_type": "code",
   "execution_count": 3,
   "metadata": {
    "collapsed": false,
    "scrolled": true
   },
   "outputs": [
    {
     "name": "stdout",
     "output_type": "stream",
     "text": [
      "a.shape= (3L, 5L)\na.ndim= 2\na.dtype= int32\na.dtype.name= int32\na.itemsize= 4\na.size= 15\n"
     ]
    }
   ],
   "source": [
    "print 'a.shape=', a.shape\n",
    "print 'a.ndim=', a.ndim     # 几维\n",
    "print 'a.dtype=', a.dtype\n",
    "print 'a.dtype.name=', a.dtype.name\n",
    "print 'a.itemsize=', a.itemsize     # 每个元素的字节大小\n",
    "print 'a.size=', a.size"
   ]
  },
  {
   "cell_type": "code",
   "execution_count": 15,
   "metadata": {},
   "outputs": [
    {
     "data": {
      "text/plain": [
       "(array([2, 3, 4]), array([2, 3, 4, 2, 3, 4, 2, 3, 4, 2, 3, 4]))"
      ]
     },
     "execution_count": 15,
     "metadata": {},
     "output_type": "execute_result"
    }
   ],
   "source": [
    "a1 = np.array([2, 3, 4])\n",
    "a2 = np.array([2, 3, 4] * 4)\n",
    "a1, \\\n",
    "a2"
   ]
  },
  {
   "cell_type": "code",
   "execution_count": 4,
   "metadata": {
    "collapsed": true
   },
   "outputs": [
    {
     "data": {
      "text/plain": [
       "array([89, 22, 23, 28, 74, 16,  4, 61, 31, 19, 62, 93, 52, 15, 90, 91,  5,\n       36,  1, 65])"
      ]
     },
     "execution_count": 4,
     "metadata": {},
     "output_type": "execute_result"
    }
   ],
   "source": [
    "# 随机数\n",
    "rd = np.random.randint(1, 100, 20)  # 整数\n",
    "rd"
   ]
  },
  {
   "cell_type": "code",
   "execution_count": 6,
   "metadata": {},
   "outputs": [
    {
     "data": {
      "text/plain": [
       "array([[[ 0.89829838,  0.6875708 ,  1.37188193],\n        [ 0.15626574, -0.09271864, -0.57698472]],\n\n       [[-1.65221809, -0.35853338,  0.24514813],\n        [-1.72656118, -0.06079837, -0.27696511]],\n\n       [[-0.07831238,  1.2778987 , -0.4639187 ],\n        [-1.20477055,  1.03501582,  0.12196425]],\n\n       [[-1.74873434, -1.75211767, -0.42685525],\n        [ 0.42949706,  0.03930767,  0.2911378 ]],\n\n       [[-0.17188514,  0.09358439,  0.34600794],\n        [ 0.45349848, -0.70797609,  0.53693337]]])"
      ]
     },
     "execution_count": 6,
     "metadata": {},
     "output_type": "execute_result"
    }
   ],
   "source": [
    "rd1 = np.random.randn(5, 2, 3)\n",
    "rd1"
   ]
  },
  {
   "cell_type": "code",
   "execution_count": 7,
   "metadata": {},
   "outputs": [
    {
     "data": {
      "text/plain": [
       "array([[45, 82, 62, 31, 59, 24],\n       [73, 39, 49, 63, 95, 88],\n       [99, 41, 56, 14, 50, 41],\n       [93, 44, 21, 56, 85,  2],\n       [ 8, 97,  6, 31, 35, 50],\n       [ 2, 11, 66,  0, 87, 69]])"
      ]
     },
     "execution_count": 7,
     "metadata": {},
     "output_type": "execute_result"
    }
   ],
   "source": [
    "rd2 = np.random.randint(0, 100, 36).reshape(6, 6)\n",
    "rd2"
   ]
  },
  {
   "cell_type": "code",
   "execution_count": null,
   "metadata": {},
   "outputs": [],
   "source": [
    ""
   ]
  }
 ],
 "metadata": {
  "kernelspec": {
   "display_name": "Python 2",
   "language": "python",
   "name": "python2"
  },
  "language_info": {
   "codemirror_mode": {
    "name": "ipython",
    "version": 2.0
   },
   "file_extension": ".py",
   "mimetype": "text/x-python",
   "name": "python",
   "nbconvert_exporter": "python",
   "pygments_lexer": "ipython2",
   "version": "2.7.13"
  }
 },
 "nbformat": 4,
 "nbformat_minor": 0
}